{
 "cells": [
  {
   "cell_type": "code",
   "execution_count": 13,
   "metadata": {},
   "outputs": [
    {
     "name": "stdout",
     "output_type": "stream",
     "text": [
      "{'tom': [2, 3]}\n",
      "None\n"
     ]
    }
   ],
   "source": [
    "\n",
    "\n",
    "from typing import Any\n",
    "\n",
    "\n",
    "class Class():\n",
    "    def __init__(self) -> None:\n",
    "        self.grade = {}\n",
    "\n",
    "    def add_student(self,name):\n",
    "        self.grade[name] = []\n",
    "\n",
    "    def add_grade(self,name,grade):\n",
    "        self.grade[name].append(grade)\n",
    "\n",
    "    def __call__(self, *args: Any, **kwds: Any) -> Any:\n",
    "        return print(self.grade)\n",
    "\n",
    "\n",
    "c1 = Class()\n",
    "c1.add_student('tom')\n",
    "c1.add_grade('tom',2)\n",
    "c1.add_grade('tom',3)\n",
    "print(c1())\n",
    "    \n",
    "\n",
    "\n"
   ]
  }
 ],
 "metadata": {
  "kernelspec": {
   "display_name": "ml_env",
   "language": "python",
   "name": "python3"
  },
  "language_info": {
   "codemirror_mode": {
    "name": "ipython",
    "version": 3
   },
   "file_extension": ".py",
   "mimetype": "text/x-python",
   "name": "python",
   "nbconvert_exporter": "python",
   "pygments_lexer": "ipython3",
   "version": "3.9.16"
  }
 },
 "nbformat": 4,
 "nbformat_minor": 2
}
