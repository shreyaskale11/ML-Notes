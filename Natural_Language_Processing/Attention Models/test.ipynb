{
 "cells": [
  {
   "cell_type": "code",
   "execution_count": null,
   "metadata": {},
   "outputs": [],
   "source": []
  },
  {
   "cell_type": "markdown",
   "metadata": {},
   "source": [
    "\n",
    "\n",
    "word vectors\n",
    "https://fasttext.cc/docs/en/english-vectors.html \n",
    "\n",
    "Stanford Word Segmenter \n",
    "https://nlp.stanford.edu/software/segmenter.html\n",
    "\n",
    "\n",
    "https://ai.stanford.edu/blog/nlp/ \n",
    "\n",
    "https://ai.stanford.edu/blog/beyond-local-pattern-matching/ \n",
    "Recently, large-scale question answering datasets like the [Stanford Question Answering Dataset (SQuAD)](https://rajpurkar.github.io/SQuAD-explorer/) and [TriviaQA](http://nlp.cs.washington.edu/triviaqa/) have fueled much of the progress in this direction. By allowing researchers to train powerful and data-hungry deep learning models, these datasets have already enabled impressive results such as an algorithm that can answer many arbitrary questions by finding the appropriate answer in Wikipedia pages – removing the need for a human to do all the hard work themselves.\n",
    "\n",
    "From Jia and Liang. Short added sentences showcase that the model learn to pattern-match city names, rather than truly understanding the question and answer. \n",
    "\n",
    "https://t5-trivia.glitch.me \n",
    "\n",
    "\n",
    "https://nn.labml.ai/?_gl=1*8jje62*_ga*MjExNTg5OTU5OS4xNzAxMjUyMDMw*_ga_PDCL9PHMHT*MTcwMTI1MjAyOS4xLjEuMTcwMTI1MjA2MC4wLjAuMA.. \n",
    "\n",
    "\n",
    "\n",
    "Toolformer: Language Models Can Teach Themselves to Use Tools\n",
    "https://arxiv.org/pdf/2302.04761.pdf "
   ]
  }
 ],
 "metadata": {
  "language_info": {
   "name": "python"
  }
 },
 "nbformat": 4,
 "nbformat_minor": 2
}
