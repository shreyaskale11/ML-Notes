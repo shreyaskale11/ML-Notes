{
 "cells": [
  {
   "attachments": {},
   "cell_type": "markdown",
   "metadata": {},
   "source": [
    "\n",
    "\n",
    "# SMAPE\n",
    "\n",
    "SMAPE is an accuracy measure based on percentage (or relative) errors. It is defined as:\n",
    "\n",
    "$$ SMAPE = \\frac{100\\%}{n} \\sum_{t=1}^{n} \\frac{|F_t - A_t|}{(|A_t| + |F_t|)/2} $$\n",
    "\n",
    "where $A_t$ is the actual value and $F_t$ is the forecast value.\n",
    "\n",
    "The SMAPE is a scale-independent measure and is therefore useful for comparing forecast accuracy across different time series. The closer the value of SMAPE to 0, the better the accuracy. The maximum value of SMAPE is 200%. \n",
    "\n",
    "python code \n",
    "```python  \n",
    "def smape(actual, predicted):\n",
    "    dividend= np.abs(np.array(actual) - np.array(predicted))\n",
    "    denominator = np.array(actual) + np.array(predicted)\n",
    "    \n",
    "    return 2 * np.mean(np.divide(dividend, denominator, out=np.zeros_like(dividend), where=denominator!=0, casting='unsafe'))\n",
    "```\n",
    "```python\n",
    "def smape(y_true, y_pred):\n",
    "    smap = np.zeros(len(y_true))\n",
    "    \n",
    "    num = np.abs(y_true - y_pred)\n",
    "    dem = ((np.abs(y_true) + np.abs(y_pred)) / 2)\n",
    "    \n",
    "    pos_ind = (y_true!=0)|(y_pred!=0)\n",
    "    smap[pos_ind] = num[pos_ind] / dem[pos_ind]\n",
    "    \n",
    "    return 100 * np.mean(smap)\n",
    "```\n",
    "\n"
   ]
  }
 ],
 "metadata": {
  "language_info": {
   "name": "python"
  },
  "orig_nbformat": 4
 },
 "nbformat": 4,
 "nbformat_minor": 2
}
