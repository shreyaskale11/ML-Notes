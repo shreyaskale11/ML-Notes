{
 "cells": [
  {
   "attachments": {},
   "cell_type": "markdown",
   "metadata": {},
   "source": [
    "\n",
    "\n",
    "Keras \n",
    "\n",
    "Keras is the high-level API of the TensorFlow platform. It provides an approachable, highly-productive interface for solving machine learning (ML) problems, with a focus on modern deep learning. Keras covers every step of the machine learning workflow, from data processing to hyperparameter tuning to deployment. It was developed with a focus on enabling fast experimentation.\n",
    "\n",
    "\n",
    "\n",
    "\n",
    "\n",
    "It is generally recommend to use the Keras Functional model via Input, (which creates an InputLayer) without directly using InputLayer.\n",
    "\n"
   ]
  },
  {
   "cell_type": "code",
   "execution_count": 30,
   "metadata": {},
   "outputs": [
    {
     "name": "stdout",
     "output_type": "stream",
     "text": [
      "[]\n",
      "[array([[1.0741853, 1.1352409]], dtype=float32), array([0., 0.], dtype=float32)]\n",
      "Model: \"sequential_10\"\n",
      "_________________________________________________________________\n",
      " Layer (type)                Output Shape              Param #   \n",
      "=================================================================\n",
      " l1 (Dense)                  (None, 3)                 9         \n",
      "                                                                 \n",
      "=================================================================\n",
      "Total params: 9 (36.00 Byte)\n",
      "Trainable params: 9 (36.00 Byte)\n",
      "Non-trainable params: 0 (0.00 Byte)\n",
      "_________________________________________________________________\n",
      "None\n"
     ]
    }
   ],
   "source": [
    "\n",
    "\n",
    "import numpy as np\n",
    "import tensorflow as tf\n",
    "\n",
    "X_train = np.array([[1.],[3.]])\n",
    "y_train = np.array([[200.],[500.]])\n",
    "\n",
    "input_layer = tf.keras.Input(shape=(2,1))\n",
    "\"\"\"\n",
    "Dense implements the operation: output = activation(dot(input, kernel) + bias) where activation is the element-wise activation \n",
    "function passed as the activation argument, kernel is a weights matrix created by the layer, \n",
    "and bias is a bias vector created by the layer (only applicable if use_bias is True). These are all attributes of Dense.\n",
    "\"\"\"\n",
    "layer1 = tf.keras.layers.Dense(2)\n",
    "print(layer1.get_weights())\n",
    "a1 = layer1(X_train)\n",
    "print(layer1.get_weights())\n",
    "\n",
    "\n",
    "# sequential \n",
    "model = tf.keras.Sequential(\n",
    "    [\n",
    "        tf.keras.Input(shape=(2)),\n",
    "        tf.keras.layers.Dense(3,activation='relu',name='l1')\n",
    "    ]\n",
    ")\n",
    "\n",
    "print(model.summary())\n",
    "\n",
    "\n"
   ]
  }
 ],
 "metadata": {
  "kernelspec": {
   "display_name": "ml_env",
   "language": "python",
   "name": "python3"
  },
  "language_info": {
   "codemirror_mode": {
    "name": "ipython",
    "version": 3
   },
   "file_extension": ".py",
   "mimetype": "text/x-python",
   "name": "python",
   "nbconvert_exporter": "python",
   "pygments_lexer": "ipython3",
   "version": "3.9.16"
  },
  "orig_nbformat": 4
 },
 "nbformat": 4,
 "nbformat_minor": 2
}
