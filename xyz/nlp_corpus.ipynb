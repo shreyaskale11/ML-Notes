{
 "cells": [
  {
   "cell_type": "code",
   "execution_count": 16,
   "metadata": {},
   "outputs": [],
   "source": [
    "import requests\n",
    "import re\n",
    "\n",
    "urls = [\n",
    "    'https://www.gutenberg.org/cache/epub/72354/pg72354-images.html',\n",
    "    'https://www.gutenberg.org/cache/epub/72351/pg72351-images.html',\n",
    "    'https://www.gutenberg.org/cache/epub/72350/pg72350.html',\n",
    "    'https://www.gutenberg.org/cache/epub/72356/pg72356-images.html',\n",
    "    'https://www.gutenberg.org/cache/epub/72349/pg72349-images.html',\n",
    "    'https://www.gutenberg.org/cache/epub/40227/pg40227-images.html'\n",
    "]\n",
    "\n",
    "def get_text(url):\n",
    "    r = requests.get(url)\n",
    "    return r.text\n",
    "\n",
    "def get_words_from_text(text):\n",
    "    words = re.findall(r'\\w+', text.lower())\n",
    "    return set(words)\n",
    "\n",
    "words = set()\n",
    "\n",
    "for url in urls:\n",
    "    text = get_text(url)\n",
    "    w = get_words_from_text(text)\n",
    "    words.update(w)\n"
   ]
  },
  {
   "cell_type": "code",
   "execution_count": 17,
   "metadata": {},
   "outputs": [
    {
     "data": {
      "text/plain": [
       "40376"
      ]
     },
     "execution_count": 17,
     "metadata": {},
     "output_type": "execute_result"
    }
   ],
   "source": [
    "len(words)"
   ]
  },
  {
   "cell_type": "code",
   "execution_count": 2,
   "metadata": {},
   "outputs": [
    {
     "name": "stdout",
     "output_type": "stream",
     "text": [
      "[('care', 6), ('clock', 6), ('like', 5), ('no', 5), ('lot', 5), ('health', 5), ('o', 5), ('one', 4), ('well', 4), ('long', 4), ('light', 4), ('top', 4), ('past', 4), ('in', 3), ('that', 3), ('t', 3), ('as', 3), ('so', 3), ('other', 3), ('back', 3), ('last', 3), ('high', 3), ('mean', 3), ('american', 3), ('part', 3), ('right', 3), ('before', 3), ('far', 3), ('little', 3), ('since', 3), ('public', 3), ('matter', 3), ('term', 3), ('short', 3), ('close', 3), ('near', 3), ('general', 3), ('outside', 3), ('present', 3), ('rather', 3), ('charge', 3), ('inside', 3), ('middle', 3), ('front', 3), ('average', 3), ('associate', 3), ('respect', 3), ('regard', 3), ('round', 3), ('favor', 3), ('and', 2), ('to', 2), ('for', 2), ('on', 2), ('this', 2), ('but', 2), ('his', 2), ('not', 2), ('n', 2), ('by', 2), ('or', 2), ('can', 2), ('her', 2), ('all', 2), ('about', 2), ('will', 2), ('up', 2), ('time', 2), ('there', 2), ('when', 2), ('out', 2), ('just', 2), ('now', 2), ('than', 2), ('two', 2), ('more', 2), ('way', 2), ('look', 2), ('first', 2), ('because', 2), ('use', 2), ('only', 2), ('very', 2), ('even', 2), ('any', 2), ('good', 2), ('through', 2), ('work', 2), ('down', 2), ('after', 2), ('call', 2), ('over', 2), ('still', 2), ('need', 2), ('feel', 2), ('state', 2), ('most', 2), ('another', 2), ('much', 2), ('own', 2), ('leave', 2), ('old', 2), ('while', 2), ('help', 2), ('talk', 2), ('where', 2), ('turn', 2), ('start', 2), ('hand', 2), ('show', 2), ('place', 2), ('such', 2), ('case', 2), ('each', 2), ('program', 2), ('question', 2), ('play', 2), ('run', 2), ('off', 2), ('move', 2), ('live', 2), ('point', 2), ('hold', 2), ('next', 2), ('home', 2), ('under', 2), ('study', 2), ('though', 2), ('issue', 2), ('kind', 2), ('head', 2), ('black', 2), ('both', 2), ('house', 2), ('around', 2), ('away', 2), ('until', 2), ('line', 2), ('end', 2), ('stand', 2), ('pay', 2), ('set', 2), ('later', 2), ('name', 2), ('once', 2), ('white', 2), ('change', 2), ('best', 2), ('kid', 2), ('lead', 2), ('watch', 2), ('stop', 2), ('face', 2), ('level', 2), ('sure', 2), ('within', 2), ('result', 2), ('open', 2), ('walk', 2), ('low', 2), ('win', 2), ('research', 2), ('early', 2), ('force', 2), ('offer', 2), ('enough', 2), ('across', 2), ('second', 2), ('age', 2), ('love', 2), ('process', 2), ('human', 2), ('market', 2), ('sense', 2), ('stay', 2), ('fall', 2), ('plan', 2), ('cut', 2), ('course', 2), ('experience', 2), ('behind', 2), ('reach', 2), ('class', 2), ('control', 2), ('late', 2), ('hard', 2), ('pass', 2), ('major', 2), ('along', 2), ('report', 2), ('better', 2), ('rate', 2), ('whole', 2), ('mind', 2), ('return', 2), ('free', 2), ('military', 2), ('less', 2), ('hope', 2), ('view', 2), ('drive', 2), ('arm', 2), ('break', 2), ('value', 2), ('full', 2), ('model', 2), ('position', 2), ('record', 2), ('form', 2), ('support', 2), ('official', 2), ('project', 2), ('hit', 2), ('base', 2), ('star', 2), ('half', 2), ('easy', 2), ('cost', 2), ('figure', 2), ('either', 2), ('cover', 2), ('picture', 2), ('clear', 2), ('practice', 2), ('land', 2), ('patient', 2), ('test', 2), ('third', 2), ('catch', 2), ('step', 2), ('republican', 2), ('cause', 2), ('soon', 2), ('plant', 2), ('likely', 2), ('rule', 2), ('risk', 2), ('fire', 2), ('future', 2), ('wrong', 2), ('increase', 2), ('subject', 2), ('rest', 2), ('deal', 2), ('fight', 2), ('order', 2), ('focus', 2), ('drop', 2), ('color', 2), ('store', 2), ('sound', 2), ('note', 2), ('share', 2), ('race', 2), ('concern', 2), ('response', 2), ('rise', 2), ('beyond', 2), ('approach', 2), ('lie', 2), ('fund', 2), ('sign', 2), ('list', 2), ('individual', 2), ('answer', 2), ('wonder', 2), ('attack', 2), ('pretty', 2), ('trade', 2), ('standard', 2), ('benefit', 2), ('ok', 2), ('design', 2), ('sort', 2), ('act', 2), ('blue', 2), ('check', 2), ('dark', 2), ('laugh', 2), ('rock', 2), ('claim', 2), ('cold', 2), ('final', 2), ('green', 2), ('above', 2), ('seat', 2), ('spring', 2), ('firm', 2), ('visit', 2), ('finish', 2), ('measure', 2), ('fly', 2), ('interview', 2), ('fish', 2), ('particular', 2), ('bit', 2), ('worry', 2), ('range', 2), ('mention', 2), ('deep', 2), ('trouble', 2), ('challenge', 2), ('fear', 2), ('dream', 2), ('instead', 2), ('stuff', 2), ('heat', 2), ('ahead', 2), ('address', 2), ('coach', 2), ('beat', 2), ('total', 2), ('notice', 2), ('wish', 2), ('smile', 2), ('score', 2), ('account', 2), ('vote', 2), ('travel', 2), ('debate', 2), ('senior', 2), ('wind', 2), ('key', 2), ('professional', 2), ('fast', 2), ('alone', 2), ('access', 2), ('judge', 2), ('release', 2), ('credit', 2), ('track', 2), ('strike', 2), ('object', 2), ('conduct', 2), ('touch', 2), ('please', 2), ('sleep', 2), ('press', 2), ('feature', 2), ('battle', 2), ('date', 2), ('african', 2), ('complete', 2), ('stick', 2), ('ship', 2), ('attempt', 2), ('park', 2), ('spot', 2), ('lack', 2), ('drink', 2), ('handle', 2), ('survey', 2), ('roll', 2), ('screen', 2), ('gain', 2), ('potential', 2), ('european', 2), ('shape', 2), ('crowd', 2), ('christian', 2), ('target', 2), ('ride', 2), ('guard', 2), ('demand', 2), ('pound', 2), ('block', 2), ('living', 2), ('count', 2), ('shop', 2), ('jump', 2), ('limit', 2), ('fit', 2), ('cry', 2), ('worth', 2), ('warm', 2), ('french', 2), ('comment', 2), ('spread', 2), ('murder', 2), ('review', 2), ('document', 2), ('speed', 2), ('cross', 2), ('influence', 2), ('female', 2), ('wave', 2), ('suit', 2), ('blow', 2), ('cook', 2), ('indian', 2), ('dress', 2), ('promise', 2), ('function', 2), ('chief', 2), ('below', 2), ('cool', 2), ('direct', 2), ('contact', 2), ('daily', 2), ('exercise', 2), ('supply', 2), ('search', 2), ('tie', 2), ('primary', 2), ('circle', 2), ('bottom', 2), ('exchange', 2), ('clean', 2), ('train', 2), ('damage', 2), ('male', 2), ('abuse', 2), ('welcome', 2), ('rain', 2), ('desire', 2), ('paint', 2), ('dry', 2), ('russian', 2), ('fat', 2), ('favorite', 2), ('complex', 2), ('bear', 2), ('surprise', 2), ('balance', 2), ('straight', 2), ('aid', 2), ('okay', 2), ('photograph', 2), ('trail', 2), ('struggle', 2), ('dance', 2), ('being', 2), ('ring', 2), ('shift', 2), ('mark', 2), ('mail', 2), ('japanese', 2), ('link', 2), ('stress', 2), ('content', 2), ('root', 2), ('launch', 2), ('file', 2), ('catholic', 2), ('mix', 2), ('slow', 2), ('wake', 2), ('shirt', 2), ('guide', 2), ('english', 2), ('neither', 2), ('correct', 2), ('estimate', 2), ('due', 2), ('german', 2), ('frame', 2), ('except', 2), ('conservative', 2), ('host', 2), ('trust', 2), ('appeal', 2), ('secret', 2), ('fun', 2), ('separate', 2), ('tear', 2), ('doubt', 2), ('grant', 2), ('stretch', 2), ('copy', 2), ('tip', 2), ('aim', 2), ('overall', 2), ('criminal', 2), ('rush', 2), ('apart', 2), ('witness', 2), ('match', 2), ('representative', 2), ('flow', 2), ('waste', 2), ('mass', 2), ('bomb', 2), ('liberal', 2), ('decline', 2), ('taste', 2), ('escape', 2), ('cast', 2), ('addition', 2), ('immigrant', 2), ('alternative', 2), ('signal', 2), ('honor', 2), ('israeli', 2), ('display', 2), ('suspect', 2), ('permit', 2), ('graduate', 2), ('request', 2), ('arrest', 2), ('schedule', 2), ('post', 2), ('purchase', 2), ('self', 2), ('slide', 2), ('arab', 2), ('double', 2), ('print', 2), ('lock', 2), ('mine', 2), ('joke', 2), ('quote', 2), ('online', 2), ('pack', 2), ('volunteer', 2), ('advance', 2), ('shock', 2), ('kiss', 2), ('transfer', 2), ('monitor', 2), ('command', 2), ('veteran', 2), ('smell', 2), ('smoke', 2), ('glance', 2), ('fellow', 2), ('nearby', 2), ('peer', 2), ('relative', 2), ('swing', 2), ('unlike', 2), ('secure', 2), ('palestinian', 2), ('giant', 2), ('pop', 2), ('award', 2), ('muslim', 2), ('switch', 2), ('chemical', 2), ('label', 2), ('advocate', 2), ('draft', 2), ('rank', 2), ('yield', 2), ('bet', 2), ('assistant', 2), ('encounter', 2), ('tight', 2), ('square', 2), ('strip', 2), ('guarantee', 2), ('pause', 2), ('finance', 2), ('sink', 2), ('ideal', 2), ('counter', 2), ('protest', 2), ('crash', 2), ('terrorist', 2), ('prior', 2), ('intellectual', 2), ('sudden', 2), ('net', 2), ('load', 2), ('divorce', 2), ('pile', 2), ('crack', 2), ('besides', 2), ('trace', 2), ('loud', 2), ('delay', 2), ('downtown', 2), ('principal', 2), ('orange', 2), ('bite', 2), ('pitch', 2), ('wound', 2), ('collapse', 2), ('civilian', 2), ('brush', 2), ('ease', 2), ('medium', 2), ('running', 2), ('ban', 2), ('exhibit', 2), ('gaze', 2), ('defeat', 2), ('slice', 2), ('upset', 2), ('remark', 2), ('reward', 2), ('magic', 2), ('stem', 2), ('rent', 2), ('pump', 2), ('evil', 2), ('sponsor', 2), ('interior', 2), ('excuse', 2), ('flash', 2), ('trap', 2), ('plain', 2), ('flood', 2), ('broadcast', 2), ('minimum', 2), ('tune', 2), ('harm', 2), ('strain', 2), ('praise', 2), ('reserve', 2), ('compromise', 2), ('twist', 2), ('hook', 2), ('rescue', 2), ('repair', 2), ('seal', 2), ('pro', 2), ('sacrifice', 2), ('bow', 2), ('grin', 2), ('calm', 2), ('known', 2), ('liquid', 2), ('instant', 2), ('worldwide', 2), ('cure', 2), ('transport', 2), ('harvest', 2), ('till', 2), ('the', 1), ('be', 1), ('of', 1), ('a', 1), ('have', 1), ('it', 1), ('i', 1), ('you', 1), ('he', 1), ('with', 1), ('do', 1), ('say', 1), ('they', 1), ('at', 1), ('we', 1), ('from', 1), ('she', 1), ('what', 1), ('go', 1), ('their', 1), ('who', 1), ('get', 1), ('if', 1), ('would', 1), ('my', 1), ('make', 1), ('know', 1), ('year', 1), ('think', 1), ('which', 1), ('them', 1), ('some', 1), ('me', 1), ('people', 1), ('take', 1), ('into', 1), ('see', 1), ('him', 1), ('your', 1), ('come', 1), ('could', 1), ('how', 1), ('then', 1), ('its', 1), ('our', 1), ('these', 1), ('want', 1), ('also', 1), ('new', 1), ('day', 1), ('man', 1), ('find', 1), ('here', 1), ('thing', 1), ('give', 1), ('many', 1), ('those', 1), ('tell', 1), ('woman', 1), ('us', 1), ('life', 1), ('child', 1), ('may', 1), ('should', 1), ('world', 1), ('school', 1), ('try', 1), ('ask', 1), ('too', 1), ('three', 1), ('never', 1), ('become', 1), ('between', 1), ('really', 1), ('something', 1), ('family', 1), ('put', 1), ('keep', 1), ('student', 1), ('why', 1), ('let', 1), ('great', 1), ('same', 1), ('big', 1), ('group', 1), ('begin', 1), ('seem', 1), ('country', 1), ('problem', 1), ('every', 1), ('might', 1), ('against', 1), ('again', 1), ('few', 1), ('week', 1), ('company', 1), ('system', 1), ('hear', 1), ('during', 1), ('government', 1), ('small', 1), ('number', 1), ('always', 1), ('night', 1), ('mr', 1), ('believe', 1), ('today', 1), ('bring', 1), ('happen', 1), ('without', 1), ('large', 1), ('million', 1), ('must', 1), ('water', 1), ('room', 1), ('write', 1), ('mother', 1), ('area', 1), ('national', 1), ('money', 1), ('story', 1), ('young', 1), ('fact', 1), ('month', 1), ('different', 1), ('book', 1), ('eye', 1), ('job', 1), ('word', 1), ('business', 1), ('side', 1), ('four', 1), ('yes', 1), ('provide', 1), ('service', 1), ('friend', 1), ('important', 1), ('father', 1), ('sit', 1), ('power', 1), ('hour', 1), ('game', 1), ('often', 1), ('yet', 1), ('political', 1), ('among', 1), ('ever', 1), ('bad', 1), ('lose', 1), ('however', 1), ('member', 1), ('law', 1), ('meet', 1), ('car', 1), ('city', 1), ('almost', 1), ('include', 1), ('continue', 1), ('community', 1), ('five', 1), ('least', 1), ('president', 1), ('learn', 1), ('real', 1), ('team', 1), ('minute', 1), ('several', 1), ('idea', 1), ('body', 1), ('information', 1), ('nothing', 1), ('ago', 1), ('social', 1), ('understand', 1), ('whether', 1), ('together', 1), ('follow', 1), ('parent', 1), ('anything', 1), ('create', 1), ('already', 1), ('speak', 1), ('others', 1), ('read', 1), ('allow', 1), ('add', 1), ('office', 1), ('spend', 1), ('door', 1), ('person', 1), ('art', 1), ('war', 1), ('history', 1), ('party', 1), ('grow', 1), ('morning', 1), ('reason', 1), ('girl', 1), ('guy', 1), ('food', 1), ('moment', 1), ('himself', 1), ('air', 1), ('teacher', 1), ('education', 1), ('although', 1), ('remember', 1), ('foot', 1), ('boy', 1), ('maybe', 1), ('toward', 1), ('able', 1), ('policy', 1), ('everything', 1), ('music', 1), ('including', 1), ('consider', 1), ('appear', 1), ('actually', 1), ('buy', 1), ('probably', 1), ('wait', 1), ('serve', 1), ('die', 1), ('send', 1), ('expect', 1), ('build', 1), ('oh', 1), ('nation', 1), ('college', 1), ('interest', 1), ('death', 1), ('someone', 1), ('local', 1), ('kill', 1), ('six', 1), ('remain', 1), ('effect', 1), ('yeah', 1), ('suggest', 1), ('raise', 1), ('perhaps', 1), ('field', 1), ('else', 1), ('former', 1), ('sell', 1), ('sometimes', 1), ('require', 1), ('development', 1), ('themselves', 1), ('role', 1), ('economic', 1), ('effort', 1), ('decide', 1), ('strong', 1), ('possible', 1), ('heart', 1), ('drug', 1), ('leader', 1), ('voice', 1), ('wife', 1), ('police', 1), ('finally', 1), ('pull', 1), ('price', 1), ('according', 1), ('decision', 1), ('explain', 1), ('son', 1), ('develop', 1), ('relationship', 1), ('carry', 1), ('town', 1), ('road', 1), ('true', 1), ('federal', 1), ('difference', 1), ('thank', 1), ('receive', 1), ('international', 1), ('building', 1), ('action', 1), ('join', 1), ('season', 1), ('society', 1), ('tax', 1), ('director', 1), ('player', 1), ('agree', 1), ('especially', 1), ('pick', 1), ('wear', 1), ('paper', 1), ('special', 1), ('space', 1), ('ground', 1), ('event', 1), ('whose', 1), ('everyone', 1), ('center', 1), ('couple', 1), ('site', 1), ('activity', 1), ('table', 1), ('court', 1), ('produce', 1), ('eat', 1), ('teach', 1), ('oil', 1), ('situation', 1), ('industry', 1), ('street', 1), ('image', 1), ('itself', 1), ('phone', 1), ('data', 1), ('quite', 1), ('piece', 1), ('recent', 1), ('describe', 1), ('product', 1), ('doctor', 1), ('wall', 1), ('worker', 1), ('news', 1), ('movie', 1), ('certain', 1), ('north', 1), ('personal', 1), ('simply', 1), ('technology', 1), ('baby', 1), ('computer', 1), ('type', 1), ('attention', 1), ('draw', 1), ('film', 1), ('tree', 1), ('source', 1), ('red', 1), ('nearly', 1), ('organization', 1), ('choose', 1), ('hair', 1), ('century', 1), ('evidence', 1), ('window', 1), ('difficult', 1), ('listen', 1), ('culture', 1), ('billion', 1), ('chance', 1), ('brother', 1), ('energy', 1), ('period', 1), ('summer', 1), ('realize', 1), ('hundred', 1), ('available', 1), ('opportunity', 1), ('letter', 1), ('condition', 1), ('choice', 1), ('single', 1), ('daughter', 1), ('administration', 1), ('south', 1), ('husband', 1), ('congress', 1), ('floor', 1), ('campaign', 1), ('material', 1)]\n"
     ]
    }
   ],
   "source": [
    "\n",
    "import requests\n",
    "import re\n",
    "\n",
    "urls = [\n",
    "    # 'https://www.gutenberg.org/cache/epub/72354/pg72354-images.html',\n",
    "    # 'https://www.gutenberg.org/cache/epub/72351/pg72351-images.html',\n",
    "    # 'https://www.gutenberg.org/cache/epub/72350/pg72350.html',\n",
    "    # 'https://www.gutenberg.org/cache/epub/72356/pg72356-images.html',\n",
    "    # 'https://www.gutenberg.org/cache/epub/72349/pg72349-images.html',\n",
    "    # 'https://www.gutenberg.org/cache/epub/40227/pg40227-images.html',\n",
    "    'https://s3.amazonaws.com/hr-testcases/479/assets/words.txt'\n",
    "]\n",
    "\n",
    "def get_text(url):\n",
    "    r = requests.get(url)\n",
    "    return r.text\n",
    "\n",
    "# get 1000 most common words\n",
    "def get_words_with_frequency(text):\n",
    "    words = re.findall(r'\\w+', text.lower())\n",
    "    words_with_frequency = {}\n",
    "    for word in words:\n",
    "        words_with_frequency[word] = words_with_frequency.get(word, 0) + 1\n",
    "    return words_with_frequency\n",
    "\n",
    "words_with_frequency = {}\n",
    "\n",
    "for url in urls:\n",
    "    text = get_text(url)\n",
    "    w = get_words_with_frequency(text)\n",
    "    words_with_frequency.update(w)\n",
    "    \n",
    "words_with_frequency = sorted(words_with_frequency.items(), key=lambda x: x[1], reverse=True)\n",
    "words_with_frequency_1000 = words_with_frequency[:1000]\n",
    "print(words_with_frequency_1000)\n"
   ]
  },
  {
   "cell_type": "code",
   "execution_count": 7,
   "metadata": {},
   "outputs": [
    {
     "name": "stdout",
     "output_type": "stream",
     "text": [
      "['care', 'clock', 'like', 'no', 'lot', 'health', 'o', 'one', 'well', 'long', 'light', 'top', 'past', 'in', 'that', 't', 'as', 'so', 'other', 'back', 'last', 'high', 'mean', 'american', 'part', 'right', 'before', 'far', 'little', 'since', 'public', 'matter', 'term', 'short', 'close', 'near', 'general', 'outside', 'present', 'rather', 'charge', 'inside', 'middle', 'front', 'average', 'associate', 'respect', 'regard', 'round', 'favor', 'and', 'to', 'for', 'on', 'this', 'but', 'his', 'not', 'n', 'by', 'or', 'can', 'her', 'all', 'about', 'will', 'up', 'time', 'there', 'when', 'out', 'just', 'now', 'than', 'two', 'more', 'way', 'look', 'first', 'because', 'use', 'only', 'very', 'even', 'any', 'good', 'through', 'work', 'down', 'after', 'call', 'over', 'still', 'need', 'feel', 'state', 'most', 'another', 'much', 'own', 'leave', 'old', 'while', 'help', 'talk', 'where', 'turn', 'start', 'hand', 'show', 'place', 'such', 'case', 'each', 'program', 'question', 'play', 'run', 'off', 'move', 'live', 'point', 'hold', 'next', 'home', 'under', 'study', 'though', 'issue', 'kind', 'head', 'black', 'both', 'house', 'around', 'away', 'until', 'line', 'end', 'stand', 'pay', 'set', 'later', 'name', 'once', 'white', 'change', 'best', 'kid', 'lead', 'watch', 'stop', 'face', 'level', 'sure', 'within', 'result', 'open', 'walk', 'low', 'win', 'research', 'early', 'force', 'offer', 'enough', 'across', 'second', 'age', 'love', 'process', 'human', 'market', 'sense', 'stay', 'fall', 'plan', 'cut', 'course', 'experience', 'behind', 'reach', 'class', 'control', 'late', 'hard', 'pass', 'major', 'along', 'report', 'better', 'rate', 'whole', 'mind', 'return', 'free', 'military', 'less', 'hope', 'view', 'drive', 'arm', 'break', 'value', 'full', 'model', 'position', 'record', 'form', 'support', 'official', 'project', 'hit', 'base', 'star', 'half', 'easy', 'cost', 'figure', 'either', 'cover', 'picture', 'clear', 'practice', 'land', 'patient', 'test', 'third', 'catch', 'step', 'republican', 'cause', 'soon', 'plant', 'likely', 'rule', 'risk', 'fire', 'future', 'wrong', 'increase', 'subject', 'rest', 'deal', 'fight', 'order', 'focus', 'drop', 'color', 'store', 'sound', 'note', 'share', 'race', 'concern', 'response', 'rise', 'beyond', 'approach', 'lie', 'fund', 'sign', 'list', 'individual', 'answer', 'wonder', 'attack', 'pretty', 'trade', 'standard', 'benefit', 'ok', 'design', 'sort', 'act', 'blue', 'check', 'dark', 'laugh', 'rock', 'claim', 'cold', 'final', 'green', 'above', 'seat', 'spring', 'firm', 'visit', 'finish', 'measure', 'fly', 'interview', 'fish', 'particular', 'bit', 'worry', 'range', 'mention', 'deep', 'trouble', 'challenge', 'fear', 'dream', 'instead', 'stuff', 'heat', 'ahead', 'address', 'coach', 'beat', 'total', 'notice', 'wish', 'smile', 'score', 'account', 'vote', 'travel', 'debate', 'senior', 'wind', 'key', 'professional', 'fast', 'alone', 'access', 'judge', 'release', 'credit', 'track', 'strike', 'object', 'conduct', 'touch', 'please', 'sleep', 'press', 'feature', 'battle', 'date', 'african', 'complete', 'stick', 'ship', 'attempt', 'park', 'spot', 'lack', 'drink', 'handle', 'survey', 'roll', 'screen', 'gain', 'potential', 'european', 'shape', 'crowd', 'christian', 'target', 'ride', 'guard', 'demand', 'pound', 'block', 'living', 'count', 'shop', 'jump', 'limit', 'fit', 'cry', 'worth', 'warm', 'french', 'comment', 'spread', 'murder', 'review', 'document', 'speed', 'cross', 'influence', 'female', 'wave', 'suit', 'blow', 'cook', 'indian', 'dress', 'promise', 'function', 'chief', 'below', 'cool', 'direct', 'contact', 'daily', 'exercise', 'supply', 'search', 'tie', 'primary', 'circle', 'bottom', 'exchange', 'clean', 'train', 'damage', 'male', 'abuse', 'welcome', 'rain', 'desire', 'paint', 'dry', 'russian', 'fat', 'favorite', 'complex', 'bear', 'surprise', 'balance', 'straight', 'aid', 'okay', 'photograph', 'trail', 'struggle', 'dance', 'being', 'ring', 'shift', 'mark', 'mail', 'japanese', 'link', 'stress', 'content', 'root', 'launch', 'file', 'catholic', 'mix', 'slow', 'wake', 'shirt', 'guide', 'english', 'neither', 'correct', 'estimate', 'due', 'german', 'frame', 'except', 'conservative', 'host', 'trust', 'appeal', 'secret', 'fun', 'separate', 'tear', 'doubt', 'grant', 'stretch', 'copy', 'tip', 'aim', 'overall', 'criminal', 'rush', 'apart', 'witness', 'match', 'representative', 'flow', 'waste', 'mass', 'bomb', 'liberal', 'decline', 'taste', 'escape', 'cast', 'addition', 'immigrant', 'alternative', 'signal', 'honor', 'israeli', 'display', 'suspect', 'permit', 'graduate', 'request', 'arrest', 'schedule', 'post', 'purchase', 'self', 'slide', 'arab', 'double', 'print', 'lock', 'mine', 'joke', 'quote', 'online', 'pack', 'volunteer', 'advance', 'shock', 'kiss', 'transfer', 'monitor', 'command', 'veteran', 'smell', 'smoke', 'glance', 'fellow', 'nearby', 'peer', 'relative', 'swing', 'unlike', 'secure', 'palestinian', 'giant', 'pop', 'award', 'muslim', 'switch', 'chemical', 'label', 'advocate', 'draft', 'rank', 'yield', 'bet', 'assistant', 'encounter', 'tight', 'square', 'strip', 'guarantee', 'pause', 'finance', 'sink', 'ideal', 'counter', 'protest', 'crash', 'terrorist', 'prior', 'intellectual', 'sudden', 'net', 'load', 'divorce', 'pile', 'crack', 'besides', 'trace', 'loud', 'delay', 'downtown', 'principal', 'orange', 'bite', 'pitch', 'wound', 'collapse', 'civilian', 'brush', 'ease', 'medium', 'running', 'ban', 'exhibit', 'gaze', 'defeat', 'slice', 'upset', 'remark', 'reward', 'magic', 'stem', 'rent', 'pump', 'evil', 'sponsor', 'interior', 'excuse', 'flash', 'trap', 'plain', 'flood', 'broadcast', 'minimum', 'tune', 'harm', 'strain', 'praise', 'reserve', 'compromise', 'twist', 'hook', 'rescue', 'repair', 'seal', 'pro', 'sacrifice', 'bow', 'grin', 'calm', 'known', 'liquid', 'instant', 'worldwide', 'cure', 'transport', 'harvest', 'till', 'the', 'be', 'of', 'a', 'have', 'it', 'i', 'you', 'he', 'with', 'do', 'say', 'they', 'at', 'we', 'from', 'she', 'what', 'go', 'their', 'who', 'get', 'if', 'would', 'my', 'make', 'know', 'year', 'think', 'which', 'them', 'some', 'me', 'people', 'take', 'into', 'see', 'him', 'your', 'come', 'could', 'how', 'then', 'its', 'our', 'these', 'want', 'also', 'new', 'day', 'man', 'find', 'here', 'thing', 'give', 'many', 'those', 'tell', 'woman', 'us', 'life', 'child', 'may', 'should', 'world', 'school', 'try', 'ask', 'too', 'three', 'never', 'become', 'between', 'really', 'something', 'family', 'put', 'keep', 'student', 'why', 'let', 'great', 'same', 'big', 'group', 'begin', 'seem', 'country', 'problem', 'every', 'might', 'against', 'again', 'few', 'week', 'company', 'system', 'hear', 'during', 'government', 'small', 'number', 'always', 'night', 'mr', 'believe', 'today', 'bring', 'happen', 'without', 'large', 'million', 'must', 'water', 'room', 'write', 'mother', 'area', 'national', 'money', 'story', 'young', 'fact', 'month', 'different', 'book', 'eye', 'job', 'word', 'business', 'side', 'four', 'yes', 'provide', 'service', 'friend', 'important', 'father', 'sit', 'power', 'hour', 'game', 'often', 'yet', 'political', 'among', 'ever', 'bad', 'lose', 'however', 'member', 'law', 'meet', 'car', 'city', 'almost', 'include', 'continue', 'community', 'five', 'least', 'president', 'learn', 'real', 'team', 'minute', 'several', 'idea', 'body', 'information', 'nothing', 'ago', 'social', 'understand', 'whether', 'together', 'follow', 'parent', 'anything', 'create', 'already', 'speak', 'others', 'read', 'allow', 'add', 'office', 'spend', 'door', 'person', 'art', 'war', 'history', 'party', 'grow', 'morning', 'reason', 'girl', 'guy', 'food', 'moment', 'himself', 'air', 'teacher', 'education', 'although', 'remember', 'foot', 'boy', 'maybe', 'toward', 'able', 'policy', 'everything', 'music', 'including', 'consider', 'appear', 'actually', 'buy', 'probably', 'wait', 'serve', 'die', 'send', 'expect', 'build', 'oh', 'nation', 'college', 'interest', 'death', 'someone', 'local', 'kill', 'six', 'remain', 'effect', 'yeah', 'suggest', 'raise', 'perhaps', 'field', 'else', 'former', 'sell', 'sometimes', 'require', 'development', 'themselves', 'role', 'economic', 'effort', 'decide', 'strong', 'possible', 'heart', 'drug', 'leader', 'voice', 'wife', 'police', 'finally', 'pull', 'price', 'according', 'decision', 'explain', 'son', 'develop', 'relationship', 'carry', 'town', 'road', 'true', 'federal', 'difference', 'thank', 'receive', 'international', 'building', 'action', 'join', 'season', 'society', 'tax', 'director', 'player', 'agree', 'especially', 'pick', 'wear', 'paper', 'special', 'space', 'ground', 'event', 'whose', 'everyone', 'center', 'couple', 'site', 'activity', 'table', 'court', 'produce', 'eat', 'teach', 'oil', 'situation', 'industry', 'street', 'image', 'itself', 'phone', 'data', 'quite', 'piece', 'recent', 'describe', 'product', 'doctor', 'wall', 'worker', 'news', 'movie', 'certain', 'north', 'personal', 'simply', 'technology', 'baby', 'computer', 'type', 'attention', 'draw', 'film', 'tree', 'source', 'red', 'nearly', 'organization', 'choose', 'hair', 'century', 'evidence', 'window', 'difficult', 'listen', 'culture', 'billion', 'chance', 'brother', 'energy', 'period', 'summer', 'realize', 'hundred', 'available', 'opportunity', 'letter', 'condition', 'choice', 'single', 'daughter', 'administration', 'south', 'husband', 'congress', 'floor', 'campaign', 'material']\n"
     ]
    }
   ],
   "source": [
    "print([word[0] for word in words_with_frequency_1000])"
   ]
  },
  {
   "cell_type": "code",
   "execution_count": 44,
   "metadata": {},
   "outputs": [
    {
     "name": "stdout",
     "output_type": "stream",
     "text": [
      "[\"abelard's\", \"another's\", \"book's\", \"charlie'a\", \"charlie'akin\", \"charlie'in\", \"don't\", \"father's\", \"fulbert's\", \"god's\", \"haa'asta\", \"hevosha'asta\", \"hockey'a\", \"lord's\", \"lot's\", \"makinaw'iin\", \"man's\", \"moment's\", \"n't\", \"o'clock\", \"oksanrei'istä\", \"other's\", \"p's\", \"pity's\", \"printer's\", \"raa'an\", \"raa'asti\", \"saviour's\", \"transcriber's\", \"uncle's\"]\n"
     ]
    }
   ],
   "source": [
    "import requests\n",
    "import re\n",
    "\n",
    "urls = [\n",
    "    'https://www.gutenberg.org/cache/epub/72354/pg72354-images.html',\n",
    "    'https://www.gutenberg.org/cache/epub/72351/pg72351-images.html',\n",
    "    'https://www.gutenberg.org/cache/epub/72350/pg72350.html',\n",
    "    'https://www.gutenberg.org/cache/epub/72356/pg72356-images.html',\n",
    "    'https://www.gutenberg.org/cache/epub/72349/pg72349-images.html',\n",
    "    'https://www.gutenberg.org/cache/epub/40227/pg40227-images.html',\n",
    "    'https://s3.amazonaws.com/hr-testcases/479/assets/words.txt'\n",
    "]\n",
    "\n",
    "def get_text(url):\n",
    "    r = requests.get(url)\n",
    "    return r.text\n",
    "\n",
    "# get only words with apostrophe '''\n",
    "def get_words_with_apostrophe(text):\n",
    "    words = re.findall(r\"\\b\\w+'\\w*\\b\", text.lower())\n",
    "    return words\n",
    "\n",
    "words_with_apostrophe = []\n",
    "\n",
    "for url in urls:\n",
    "    text = get_text(url)\n",
    "    w = get_words_with_apostrophe(text)\n",
    "    words_with_apostrophe.extend(w)\n",
    "\n",
    "words_with_apostrophe = sorted(set(words_with_apostrophe))\n",
    "# print all words with apostrophe \" ' \"\n",
    "print(words_with_apostrophe)\n"
   ]
  },
  {
   "cell_type": "code",
   "execution_count": 37,
   "metadata": {},
   "outputs": [
    {
     "name": "stdout",
     "output_type": "stream",
     "text": [
      "candidates s candidate\n",
      "members s member\n",
      "voters s voter\n",
      "partys s party\n",
      "is s i\n",
      "states s state\n",
      "functions s function\n",
      "as s a\n",
      "voters s voter\n",
      "partys s party\n",
      "candidates s candidate\n",
      "voters s voter\n",
      "partys s party\n",
      "candidates s candidate\n",
      "merits s merit\n",
      "voters s voter\n",
      "independents s independent\n",
      "voters s voter\n",
      "organizations s organization\n",
      "its s it\n",
      "as s a\n",
      "happens s happen\n",
      "members s member\n",
      "oppositions s opposition\n",
      "states s state\n",
      "variations s variation\n",
      "allows s allow\n",
      "independents s independent\n",
      "partys s party\n",
      "requires s require\n",
      "voters s voter\n",
      "partys s party\n",
      "challenges s challenge\n",
      "variations s variation\n",
      "decades s decade\n",
      "voters s voter\n",
      "grounds s ground\n",
      "partys s party\n",
      "voters s voter\n",
      "voters s voter\n",
      "its s it\n",
      "is s i\n",
      "has s ha\n",
      "candidates s candidate\n",
      "members s member\n",
      "candidates s candidate\n"
     ]
    }
   ],
   "source": [
    "text = \"Primary election, in the United States, an election to select candidates to run for public office. Primaries may be closed (partisan), allowing only declared party members to vote, or open (nonpartisan), enabling all voters to choose which partys primary they wish to vote in without declaring any party affiliation. Primaries may be direct or indirect. A direct primary, which is now used in some form in all U.S. states, functions as a preliminary election whereby voters decide their partys candidates. In an indirect primary, voters elect delegates who choose the partys candidates at a nominating convention. The merits of open versus closed primaries have been widely debated. Proponents of open primaries argue that voters should be able to choose which primary they will vote in at each election. Open primaries allow participation by independents unwilling to declare a party affiliation to vote and prevent intimidation of voters who wish to keep their affiliation private. Party organizations prefer closed primaries because they promote party unity and keep those with no allegiance to the party from influencing its choice, as happens in crossover voting, when members of rival parties vote for the weakest candidate in the oppositions primary. Several states have adopted variations, including the mixed primary, which allows independents to vote in either partys primary but requires voters registered with a political party to vote in their own partys primary. Following legal challenges (particularly by the Democratic and Republican parties), some variations were declared unconstitutional in the early 21st century. For example, for more than six decades, the state of Washington employed a blanket primary, which enabled voters to select one candidate per office irrespective of party affiliation, with the top vote getter from each party advancing to the general election. In 2003 the 9th Circuit U.S. Court of Appeals ruled that Washingtons primary was unconstitutional, on the grounds that it violated a political partys First Amendment right to freedom of association. Washington subsequently implemented a modified blanket system that was a nonpartisan contest in which voters could select one candidate per office, with the top two vote getters per office irrespective of party affiliation advancing to the general election; in 2008 this “top-two” system was declared constitutional by the U.S. Supreme Court. In 2010 voters in California, which had earlier also been forced to abandon its blanket primary, endorsed a ballot initiative that established a system similar to that in Washington. Although the formal primary system is peculiar to the United States, there are some parallels in other countries. For example, the Australian Labor Party has used a “preselection” ballot, in which candidates in each locality have been selected by party members in that locality from those offering themselves for the preselection vote. Some parties in Israel have also used primaries to select candidates for the Knesset.\"\n",
    "# text = text.lower().split()\n",
    "text_words = re.findall(r'\\w+', text)\n",
    "# words_list = get_words_from_text(get_text('https://s3.amazonaws.com/hr-testcases/479/assets/words.txt'))\n",
    "words_list = words_with_apostrophe\n",
    "for word in text_words:\n",
    "    for w in words_list:\n",
    "        if word.startswith(w):\n",
    "            if word[len(w):]=='s':\n",
    "                print(word,word[len(w):],w)\n",
    "            \n",
    "\n"
   ]
  },
  {
   "cell_type": "code",
   "execution_count": 56,
   "metadata": {},
   "outputs": [
    {
     "name": "stderr",
     "output_type": "stream",
     "text": [
      "[nltk_data] Downloading package words to\n",
      "[nltk_data]     C:\\Users\\ketul\\AppData\\Roaming\\nltk_data...\n",
      "[nltk_data]   Package words is already up-to-date!\n"
     ]
    },
    {
     "name": "stdout",
     "output_type": "stream",
     "text": [
      "[]\n"
     ]
    }
   ],
   "source": [
    "import nltk\n",
    "\n",
    "nltk.download('words')\n",
    "from nltk.corpus import words\n",
    "\n",
    "# Get a list of common English words\n",
    "word_list = words.words()\n",
    "# Select the first \n",
    "words_with_apostrophe = [word for word in word_list if re.match(r\"\\b\\w+'\\w*\\b\", word)]\n",
    "print(words_with_apostrophe)\n"
   ]
  },
  {
   "cell_type": "code",
   "execution_count": 59,
   "metadata": {},
   "outputs": [],
   "source": [
    "import re\n",
    "import string\n",
    "\n",
    "def remove_non_ascii(text):\n",
    "    return ''.join(char for char in text if char in string.printable)\n",
    "\n",
    "def detect(text):\n",
    "    lang = {'English': 0, 'French': 0, 'Spanish': 0}\n",
    "    \n",
    "    word_eng = ['the', 'be', 'are', 'and', 'of', 'in', 'to', 'have', 'to', 'it', 'I', 'that', 'for', 'you', 'he', 'with', 'on', 'do', 'say', 'this', 'they', 'at', 'but', 'we', 'his', 'from', 'that', 'not', 'n\\'t', 'n\\'t', 'by', 'she', 'or', \n",
    "    'as', 'what', 'go', 'their', 'can', 'who', 'get', 'if', 'would', 'her', 'all', 'my', 'make', 'about', 'know', 'will', 'as', 'up', 'one', 'time', 'there', 'year', 'so', 'think', 'when', 'which', 'them', 'some', 'me', \n",
    "    'people', 'take', 'out', 'into', 'just', 'see', 'him', 'your', 'come', 'could', 'now', 'than', 'like', 'other', 'how', 'then', 'its', 'our', 'two', 'more', 'these', 'want', 'way', 'look', 'first', 'also', 'new', 'because', \n",
    "    'day', 'more', 'use', 'no', 'man', 'find', 'here', 'thing', 'give', 'many', 'well', 'only', 'those', 'tell', ' one', 'very', 'her', 'even', 'back', 'any', 'good', 'woman', 'through', 'us', 'life', 'child', 'there', 'work', \n",
    "    'down', 'may', 'after', 'should', 'call', 'world', 'over', 'school', 'still', 'try', 'in', 'as', 'last', 'ask', 'need', 'too', 'feel', 'three', 'when', 'state', 'never', 'become', 'between', 'high', 'really', 'something', \n",
    "    'most', 'another', 'much', 'family', 'own', 'out', 'leave', 'put', 'old', 'while', 'mean', 'on', 'keep', 'student', 'why', 'let', 'great', 'same', 'big', 'group', 'begin', 'seem', 'country', 'help', 'talk', 'where', 'turn']\n",
    "\n",
    "    word_french = ['le', 'être', 'sont', 'et', 'de', 'dans', 'à', 'avoir', 'à', 'il', 'je', 'que', 'pour', 'vous', 'il', 'avec', 'sur', 'faire', 'dire', 'ceci', 'ils', 'à', 'mais', 'nous', 'son', 'de', 'cette', 'pas', 'ne', 'n\\'t', 'n\\'t', 'par', 'elle', 'ou',\n",
    "    'comme', 'quoi', 'aller', 'leur', 'peut', 'qui', 'obtenir', 'si', 'voudrait', 'elle', 'tout', 'mon', 'faire', 'au sujet de', 'savoir', 'volonté', 'comme', 'en haut', 'un', 'temps', 'là', 'année', 'si', 'penser', 'quand', 'qui', 'eux', 'certains', 'moi',\n",
    "    'gens', 'prendre', 'dehors', 'dans', 'juste', 'voir', 'lui', 'votre', 'venir', 'pourrait', 'maintenant', 'que', 'comme', 'autre', 'comment', 'alors', 'ses', 'notre', 'deux', 'plus', 'ces', 'vouloir', 'manière', 'regarder', 'premier', 'aussi', 'nouveau', 'parce que',\n",
    "    'jour', 'plus', 'utiliser', 'non', 'homme', 'trouver', 'ici', 'chose', 'donner', 'beaucoup', 'bien', 'seul', 'ceux', 'dire', 'un', 'très', 'elle', 'même', 'arrière', 'importe', 'bon', 'femme', 'à travers', 'nous', 'vie', 'enfant', 'là', 'travail',\n",
    "    'bas', 'mai', 'après', 'devrait', 'appeler', 'monde', 'au-dessus', 'école', 'encore', 'essayer', 'en', 'comme', 'dernier', 'demander', 'besoin', 'aussi', 'sentir', 'trois', 'quand', 'état', 'jamais', 'devenir', 'entre', 'haute', 'vraiment', 'quelque chose',\n",
    "    'plus', 'un autre', 'beaucoup', 'famille', 'propre', 'dehors', 'laisser', 'mettre', 'vieux', 'tandis que', 'moyen', 'sur', 'garder', 'étudiant', 'pourquoi', 'laisser', 'grand', 'même', 'gros', 'groupe', 'commencer', 'sembler', 'pays', 'aider', 'parler', 'où', 'tour']\n",
    "\n",
    "    word_spanish = ['el', 'ser', 'son', 'y', 'de', 'en', 'a', 'tener', 'a', 'ello', 'yo', 'eso', 'para', 'usted', 'él', 'con', 'en', 'hacer', 'decir', 'esto', 'ellos', 'a', 'pero', 'nosotros', 'su', 'desde', 'eso', 'no', 'no', 'no', 'por', 'ella', 'o', \n",
    "    'como', 'lo que', 'ir', 'su', 'puede', 'quien', 'obtener', 'si', 'gustaría', 'ella', 'todo', 'mi', 'hacer', 'acerca de', 'saber', 'voluntad', 'como', 'arriba', 'uno', 'tiempo', 'ahí', 'año', 'tan', 'pensar', 'cuando', 'cual', 'ellos', 'algunos', 'yo', \n",
    "    'gente', 'tomar', 'fuera', 'dentro', 'solo', 'ver', 'él', 'su', 'venir', 'podría', 'ahora', 'que', 'como', 'otro', 'cómo', 'entonces', 'su', 'nuestro', 'dos', 'más', 'estos', 'querer', 'manera', 'mirar', 'primero', 'también', 'nuevo', 'porque', \n",
    "    'día', 'más', 'usar', 'no', 'hombre', 'encontrar', 'aquí', 'cosa', 'dar', 'muchos', 'bien', 'sólo', 'aquellos', 'decir', 'uno', 'muy', 'ella', 'incluso', 'atrás', 'cualquier', 'bueno', 'mujer', 'a través de', 'nosotros', 'vida', 'niño', 'allí', 'trabajo',\n",
    "    'abajo', 'mayo', 'después', 'debería', 'llamar', 'mundo', 'sobre', 'escuela', 'todavía', 'intentar', 'en', 'como', 'último', 'preguntar', 'necesitar', 'también', 'sentir', 'tres', 'cuando', 'estado', 'nunca', 'convertirse', 'entre', 'alto', 'realmente', 'algo',\n",
    "    'más', 'otro', 'mucho', 'familia', 'propio', 'fuera', 'dejar', 'poner', 'viejo', 'mientras', 'media', 'en', 'mantener', 'estudiante', 'por qué', 'dejar', 'gran', 'mismo', 'grande', 'grupo', 'comenzar', 'parecer', 'país', 'ayudar', 'hablar', 'donde', 'girar']\n",
    "\n",
    "    text_words = re.findall(r'\\w+', remove_non_ascii(text.lower()))  # Convert each word to lowercase\n",
    "    \n",
    "    for lang, word_list in zip(['English', 'French', 'Spanish'], [word_eng, word_french, word_spanish]):\n",
    "        lang_count = sum(1 for word in word_list if word in text_words)\n",
    "        lang[lang] = lang_count\n",
    "\n",
    "    return lang\n",
    "\n",
    "input_text = input()\n",
    "result = detect(input_text)\n",
    "print(result)\n"
   ]
  },
  {
   "cell_type": "code",
   "execution_count": 14,
   "metadata": {},
   "outputs": [
    {
     "name": "stdout",
     "output_type": "stream",
     "text": [
      "bate\n",
      "baet\n",
      "btae\n",
      "btea\n",
      "beta\n",
      "beat\n",
      "abte\n",
      "abet\n",
      "atbe\n",
      "ateb\n",
      "aetb\n",
      "aebt\n",
      "tabe\n",
      "taeb\n",
      "tbae\n",
      "tbea\n",
      "teba\n",
      "teab\n",
      "eatb\n",
      "eabt\n",
      "etab\n",
      "etba\n",
      "ebta\n",
      "ebat\n"
     ]
    }
   ],
   "source": [
    "def generate_permutations(s, start=0):\n",
    "    if start == len(s) - 1:\n",
    "        print(''.join(s))\n",
    "        return\n",
    "\n",
    "    for i in range(start, len(s)):\n",
    "        # Swap characters at indices start and i\n",
    "        s[start], s[i] = s[i], s[start]\n",
    "\n",
    "        # Recursively generate permutations for the remaining part of the string\n",
    "        generate_permutations(s, start + 1)\n",
    "\n",
    "        # Backtrack: undo the swap for the next iteration\n",
    "        s[start], s[i] = s[i], s[start]\n",
    "\n",
    "# Example usage\n",
    "input_string = \"bate\"\n",
    "input_list = list(input_string)\n",
    "generate_permutations(input_list)\n"
   ]
  },
  {
   "cell_type": "code",
   "execution_count": 8,
   "metadata": {},
   "outputs": [
    {
     "name": "stdout",
     "output_type": "stream",
     "text": [
      "['a', 'c', 'k', 'l', 'k', 'm', 'l', 'm']\n"
     ]
    }
   ],
   "source": [
    "def find_closest_pairs(input_str):\n",
    "    result = []\n",
    "\n",
    "    for i in range(len(input_str) - 1):\n",
    "        char1 = input_str[i]\n",
    "\n",
    "        for j in range(i + 1, len(input_str)):\n",
    "            char2 = input_str[j]\n",
    "\n",
    "            if abs(ord(char1) - ord(char2)) <= 2:\n",
    "                result.extend([char1, char2])\n",
    "\n",
    "    return result\n",
    "\n",
    "# Example usage:\n",
    "input_string = \"afcklm\"\n",
    "output = find_closest_pairs(input_string)\n",
    "print(output)\n"
   ]
  },
  {
   "cell_type": "code",
   "execution_count": 11,
   "metadata": {},
   "outputs": [
    {
     "name": "stdout",
     "output_type": "stream",
     "text": [
      "[0, 0, 1, 1, 2, 2]\n"
     ]
    }
   ],
   "source": [
    "nums = [2,0,1,2,0,1]\n",
    "\n",
    "for i in range(1,len(nums)):\n",
    "    for j in range(i):\n",
    "        if nums[i]<nums[j]:\n",
    "            nums[j],nums[i] = nums[i],nums[j]\n",
    "\n",
    "print(nums)"
   ]
  },
  {
   "cell_type": "code",
   "execution_count": 15,
   "metadata": {},
   "outputs": [
    {
     "name": "stdout",
     "output_type": "stream",
     "text": [
      "After swapping: a = 2 , b = 3 , c = 1\n"
     ]
    }
   ],
   "source": [
    "a = 1\n",
    "b = 2\n",
    "c = 3\n",
    "\n",
    "# Swapping variables\n",
    "a,b,c = b,c,a\n",
    "\n",
    "print(\"After swapping: a =\", a, \", b =\", b, \", c =\", c)\n"
   ]
  }
 ],
 "metadata": {
  "kernelspec": {
   "display_name": "Python 3",
   "language": "python",
   "name": "python3"
  },
  "language_info": {
   "codemirror_mode": {
    "name": "ipython",
    "version": 3
   },
   "file_extension": ".py",
   "mimetype": "text/x-python",
   "name": "python",
   "nbconvert_exporter": "python",
   "pygments_lexer": "ipython3",
   "version": "3.11.1"
  }
 },
 "nbformat": 4,
 "nbformat_minor": 2
}
