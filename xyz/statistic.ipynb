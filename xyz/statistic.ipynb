{
 "cells": [
  {
   "cell_type": "code",
   "execution_count": 21,
   "metadata": {},
   "outputs": [
    {
     "name": "stdout",
     "output_type": "stream",
     "text": [
      "(6.0, 12, 16.0)\n"
     ]
    }
   ],
   "source": [
    "arr = [3, 7, 8, 5, 12, 14, 21, 13,18]\n",
    "\n",
    "def median(arr):\n",
    "    n = len(arr)\n",
    "    return (arr[n // 2] + arr[(n - 1) // 2]) / 2 if n % 2 == 0 else arr[n // 2]\n",
    "\n",
    "def quartiles(arr):\n",
    "    arr.sort()\n",
    "    n = len(arr)\n",
    "    q2 = median(arr)\n",
    "    q1 = median(arr[:n // 2])\n",
    "    q3 = median(arr[(n + 1) // 2:])\n",
    "    return q1, q2, q3\n",
    "\n",
    "print(quartiles(arr))\n",
    "\n",
    "    "
   ]
  },
  {
   "cell_type": "code",
   "execution_count": 29,
   "metadata": {},
   "outputs": [
    {
     "data": {
      "text/plain": [
       "1"
      ]
     },
     "execution_count": 29,
     "metadata": {},
     "output_type": "execute_result"
    }
   ],
   "source": [
    "values = [1, 2, 3]\n",
    "freqs =  [3, 2, 1]\n",
    "\n",
    "def interquartile(values,freqs):\n",
    "    \n",
    "    x = [values[i] for i in range(len(values)) for _ in range(freqs[i])]\n",
    "    q1,q2,q3 = quartiles(x)\n",
    "    return q3-q1\n",
    "\n",
    "interquartile(values,freqs)"
   ]
  },
  {
   "cell_type": "markdown",
   "metadata": {},
   "source": [
    "# Probability "
   ]
  },
  {
   "cell_type": "code",
   "execution_count": 34,
   "metadata": {},
   "outputs": [
    {
     "name": "stdout",
     "output_type": "stream",
     "text": [
      "0.8333333333333334\n"
     ]
    }
   ],
   "source": [
    "#In a single toss of 2 fair (evenly-weighted) six-sided dice, find the probability that their sum will be at most 9.\n",
    "max = 9\n",
    "p = [1 for i in range(1,7) for j in range(1,7) if i+j<=9]\n",
    "print(sum(p)/36)\n"
   ]
  },
  {
   "cell_type": "code",
   "execution_count": 37,
   "metadata": {},
   "outputs": [
    {
     "name": "stdout",
     "output_type": "stream",
     "text": [
      "0.1111111111111111\n"
     ]
    }
   ],
   "source": [
    "# In a single toss of 2 fair (evenly-weighted) six-sided dice, find the probability that the values rolled by each die will be different and the two dice have a sum of 6.\n",
    "\n",
    "p = [1 for i in range(1,7) for j in range(1,7) if (i!=j)&(i+j==6)]\n",
    "print(sum(p)/36)"
   ]
  },
  {
   "cell_type": "code",
   "execution_count": 38,
   "metadata": {},
   "outputs": [
    {
     "name": "stdout",
     "output_type": "stream",
     "text": [
      "0.40476190476190477\n"
     ]
    }
   ],
   "source": [
    "\"\"\"\n",
    "There are 3 urns labeled X, Y, and Z.\n",
    "\n",
    "Urn X contains 4 red balls and 3 black balls.\n",
    "Urn Y contains 5 red balls and 4 black balls.\n",
    "Urn Z contains 4 red balls and 4 black balls.\n",
    "One ball is drawn from each of the 3 urns. What is the probability that, of the 3 balls drawn, 2 are red and 1 is black?\n",
    "\"\"\"\n",
    "\n",
    "# Set data\n",
    "x = {\"Red\":4/7, \"Black\":3/7}\n",
    "y = {\"Red\":5/9, \"Black\":4/9}\n",
    "z = {\"Red\":4/8, \"Black\":4/8}\n",
    "\n",
    "# Get possibilities\n",
    "first_possibility = x[\"Red\"] * y[\"Red\"] * z[\"Black\"]\n",
    "second_possibility = x[\"Red\"] * y[\"Black\"] * z[\"Red\"]\n",
    "third_possibility = x[\"Black\"] * y[\"Red\"] * z[\"Red\"]\n",
    "\n",
    "# Get probability\n",
    "print(first_possibility + second_possibility + third_possibility)"
   ]
  },
  {
   "cell_type": "markdown",
   "metadata": {},
   "source": [
    "Suppose a family has 2 children, one of which is a boy. What is the probability that both children are boys?\n",
    "\n",
    "$$ P(A|B) = \\frac{P(A \\cap B)}{P(B)}$$\n",
    "P(A|B) = probability that both children are boys given that at least one of them is a boy \n",
    "\n",
    "P(A∩B) = probability of both children being boys  is the same as the probability of having two boys\n",
    "\n",
    "P(B) probability of at least one child being a boy\n",
    "\n",
    "$$ P(A|B) = \\frac{P(A \\cap B)}{P(B)} = \\frac{1/4}{3/4} = \\frac{1}{3}$$\n",
    "​\n",
    "\n"
   ]
  },
  {
   "cell_type": "markdown",
   "metadata": {},
   "source": [
    "You draw 2 cards from a standard 52-card deck without replacing them. What is the probability that both cards are of the same suit?\n",
    "\n",
    "$$ P(A|B) = \\frac{P(A \\cap B)}{P(B)}$$\n",
    "P(A|B) = probability that both cards are of the same suit given that the first card is of a certain suit\n",
    "P(A∩B) = probability of both cards being of the same suit\n",
    "P(B) probability of the first card being of a certain suit\n",
    "\n",
    "$$ P(A|B) = \\frac{P(A \\cap B)}{P(B)} = \\frac{12/51}{13/52} = \\frac{12}{51}$$"
   ]
  },
  {
   "cell_type": "markdown",
   "metadata": {},
   "source": []
  },
  {
   "cell_type": "code",
   "execution_count": 44,
   "metadata": {},
   "outputs": [
    {
     "name": "stdout",
     "output_type": "stream",
     "text": [
      "0.696\n"
     ]
    }
   ],
   "source": [
    "ratio_boys = 1.09\n",
    "ratio_girls = 1\n",
    "boy_prob = ratio_boys / (ratio_boys + ratio_girls)\n",
    "girl_prob = 1 - boy_prob\n",
    "\n",
    "num_children = 6\n",
    "num_families = 10000 # simulate a large number of families\n",
    "at_least_3_boys = 0 \n",
    "\n",
    "from random import random\n",
    "for _ in range(num_families):\n",
    "    num_boys = 0\n",
    "    for _ in range(num_children):\n",
    "        if random() < boy_prob:\n",
    "            num_boys += 1\n",
    "    if num_boys >= 3:\n",
    "        at_least_3_boys += 1\n",
    "\n",
    "proportion = at_least_3_boys / num_families\n",
    "print(round(proportion, 3))"
   ]
  },
  {
   "cell_type": "code",
   "execution_count": 41,
   "metadata": {},
   "outputs": [
    {
     "name": "stdout",
     "output_type": "stream",
     "text": [
      "0.696\n"
     ]
    }
   ],
   "source": [
    "b = 1.09\n",
    "g = 1\n",
    "\n",
    "p = b/(b+g)\n",
    "q = 1 - p\n",
    "\n",
    "prob = 0.0\n",
    "\n",
    "from math import factorial\n",
    "\n",
    "for i in range(6, 2, -1):\n",
    "    ncr = factorial(6) / (factorial(i) * factorial(6-i))\n",
    "    prob += ncr * (p**i) * (q**(6-i))\n",
    "\n",
    "print(round(prob, 3))"
   ]
  }
 ],
 "metadata": {
  "kernelspec": {
   "display_name": "Python 3",
   "language": "python",
   "name": "python3"
  },
  "language_info": {
   "codemirror_mode": {
    "name": "ipython",
    "version": 3
   },
   "file_extension": ".py",
   "mimetype": "text/x-python",
   "name": "python",
   "nbconvert_exporter": "python",
   "pygments_lexer": "ipython3",
   "version": "3.11.1"
  }
 },
 "nbformat": 4,
 "nbformat_minor": 2
}
