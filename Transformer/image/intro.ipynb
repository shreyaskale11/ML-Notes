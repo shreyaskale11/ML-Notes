{
 "cells": [
  {
   "cell_type": "code",
   "execution_count": null,
   "metadata": {},
   "outputs": [],
   "source": []
  },
  {
   "cell_type": "markdown",
   "metadata": {},
   "source": [
    "\n",
    "https://learn.deeplearning.ai/diffusion-models/lesson/4/neural-network \n",
    "\n",
    "Introduction to Diffusion Models for Machine Learning \n",
    "https://www.assemblyai.com/blog/diffusion-models-for-machine-learning-introduction/ \n",
    "https://github.com/cloneofsimo/minDiffusion \n",
    "\n",
    "How DALL-E 2 Actually Works \n",
    "https://www.assemblyai.com/blog/how-dall-e-2-actually-works/ \n",
    "\n",
    "AN IMAGE IS WORTH 16X16 WORDS: TRANSFORMERS FOR IMAGE RECOGNITION AT SCALE \n",
    "https://arxiv.org/pdf/2010.11929.pdf "
   ]
  }
 ],
 "metadata": {
  "language_info": {
   "name": "python"
  }
 },
 "nbformat": 4,
 "nbformat_minor": 2
}
