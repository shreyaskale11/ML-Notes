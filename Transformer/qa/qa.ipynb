{
 "cells": [
  {
   "cell_type": "code",
   "execution_count": null,
   "metadata": {},
   "outputs": [],
   "source": []
  },
  {
   "cell_type": "markdown",
   "metadata": {},
   "source": [
    "# qa \n",
    "\n",
    "\n",
    "\n",
    "Kaggle \n",
    "\n",
    "https://www.kaggle.com/competitions/kaggle-llm-science-exam \n",
    "\n",
    "https://allenai.org/data/open-book-qa \\\n",
    "GPT-4 + KB - https://leaderboard.allenai.org/open_book_qa/submission/cl27vu6a0351upfr4ugg \\\n",
    "data - https://huggingface.co/sentence-transformers/all-mpnet-base-v2 \n",
    "\n",
    "\n",
    "\n",
    "\n",
    "\n"
   ]
  }
 ],
 "metadata": {
  "language_info": {
   "name": "python"
  }
 },
 "nbformat": 4,
 "nbformat_minor": 2
}
