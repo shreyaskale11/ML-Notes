{
 "cells": [
  {
   "cell_type": "code",
   "execution_count": null,
   "metadata": {},
   "outputs": [],
   "source": [
    "# Retro transformer \n",
    "\n",
    "https://openai.com/research/webgpt \n",
    "https://jalammar.github.io/illustrated-retrieval-transformer/ \n",
    "https://www.youtube.com/watch?v=sMPq4cVS4kg "
   ]
  },
  {
   "cell_type": "markdown",
   "metadata": {},
   "source": []
  }
 ],
 "metadata": {
  "language_info": {
   "name": "python"
  }
 },
 "nbformat": 4,
 "nbformat_minor": 2
}
