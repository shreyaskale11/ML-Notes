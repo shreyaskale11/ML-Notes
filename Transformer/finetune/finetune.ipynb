{
 "cells": [
  {
   "cell_type": "markdown",
   "metadata": {},
   "source": [
    "\n",
    "\n",
    "\n",
    "\n",
    "\n"
   ]
  },
  {
   "cell_type": "markdown",
   "metadata": {},
   "source": [
    "## Tokenization explained "
   ]
  },
  {
   "cell_type": "code",
   "execution_count": null,
   "metadata": {},
   "outputs": [],
   "source": [
    "# Each tokenizer works differently but the underlying mechanism remains the same. Here’s an example using the BERT tokenizer, \n",
    "# which is a WordPiece tokenizer:\n",
    "\n",
    "from transformers import BertTokenizer\n",
    "\n",
    "tokenizer = BertTokenizer.from_pretrained(\"bert-base-cased\")\n",
    "\n",
    "sequence = \"A Titan RTX has 24GB of VRAM\"\n",
    "# The tokenizer takes care of splitting the sequence into tokens available in the tokenizer vocabulary.\n",
    "\n",
    "tokenized_sequence = tokenizer.tokenize(sequence)\n",
    "# The tokens are either words or subwords. Here for instance, “VRAM” wasn’t in the model vocabulary, \n",
    "# so it’s been split in “V”, “RA” and “M”. To indicate those tokens are not separate words but parts of the same word, \n",
    "# a double-hash prefix is added for “RA” and “M”:\n",
    "\n",
    "print(tokenized_sequence)\n",
    "# ['A', 'Titan', 'R', '##T', '##X', 'has', '24', '##GB', 'of', 'V', '##RA', '##M']\n",
    "# These tokens can then be converted into IDs which are understandable by the model. This can be done by directly feeding the sentence \n",
    "# to the tokenizer, which leverages the Rust implementation of 🤗 Tokenizers for peak performance.\n",
    "\n",
    "inputs = tokenizer(sequence)\n",
    "# The tokenizer returns a dictionary with all the arguments necessary for its corresponding model to work properly. \n",
    "# The token indices are under the key input_ids:\n",
    "\n",
    "encoded_sequence = inputs[\"input_ids\"]\n",
    "print(encoded_sequence)\n",
    "# [101, 138, 18696, 155, 1942, 3190, 1144, 1572, 13745, 1104, 159, 9664, 2107, 102]\n",
    "# Note that the tokenizer automatically adds “special tokens” (if the associated model relies on them) which are special IDs the model \n",
    "# sometimes uses.\n",
    "\n",
    "# If we decode the previous sequence of ids,\n",
    "\n",
    "decoded_sequence = tokenizer.decode(encoded_sequence)\n",
    "print(decoded_sequence)\n",
    "# [CLS] A Titan RTX has 24GB of VRAM [SEP]\n",
    "\n",
    "# https://huggingface.co/docs/transformers/glossary"
   ]
  }
 ],
 "metadata": {
  "kernelspec": {
   "display_name": "ml_env",
   "language": "python",
   "name": "python3"
  },
  "language_info": {
   "name": "python",
   "version": "3.9.16"
  }
 },
 "nbformat": 4,
 "nbformat_minor": 2
}
