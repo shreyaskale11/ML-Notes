{
 "cells": [
  {
   "cell_type": "markdown",
   "metadata": {},
   "source": [
    "# ai image detection \n",
    "\n",
    "\n",
    "\n",
    "SynthID \n",
    "\n",
    "https://deepmind.google/technologies/synthid/ "
   ]
  }
 ],
 "metadata": {
  "language_info": {
   "name": "python"
  }
 },
 "nbformat": 4,
 "nbformat_minor": 2
}
